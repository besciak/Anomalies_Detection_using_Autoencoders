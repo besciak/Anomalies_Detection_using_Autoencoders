{
 "cells": [
  {
   "cell_type": "markdown",
   "metadata": {
    "hideCode": false,
    "hidePrompt": false
   },
   "source": [
    "# Advanced Machine Learning and Artificial Intelligence (MScA 32017)\n",
    "\n",
    "# Project: Anomalies Detection with Autoencoders\n",
    "\n",
    "## Notebook 2: Stacked Autoencoders\n",
    "\n",
    "\n",
    "## Yuri Balasanov, Mihail Tselishchev, &copy; iLykei 2018\n",
    "\n",
    "##### Main text: Hands-On Machine Learning with Scikit-Learn and TensorFlow, Aurelien Geron, &copy; Aurelien Geron 2017, O'Reilly Media, Inc\n",
    "\n",
    "\n",
    "# Stacked Autoencoders\n",
    "\n",
    "In this section we build various deep autoencoders and train them on *MNIST* dataset."
   ]
  },
  {
   "cell_type": "code",
   "execution_count": 1,
   "metadata": {
    "hideCode": false,
    "hidePrompt": false
   },
   "outputs": [],
   "source": [
    "%matplotlib inline\n",
    "import matplotlib.pyplot as plt\n",
    "plt.rcParams['figure.figsize'] = (8, 6)\n",
    "\n",
    "import numpy as np\n",
    "np.random.seed(123)"
   ]
  },
  {
   "cell_type": "markdown",
   "metadata": {
    "hideCode": false,
    "hidePrompt": false
   },
   "source": [
    "## Data\n",
    "\n",
    "Load data and normalize them:"
   ]
  },
  {
   "cell_type": "code",
   "execution_count": 2,
   "metadata": {
    "hideCode": false,
    "hidePrompt": false
   },
   "outputs": [
    {
     "name": "stderr",
     "output_type": "stream",
     "text": [
      "C:\\ProgramData\\Anaconda3\\lib\\site-packages\\h5py\\__init__.py:36: FutureWarning: Conversion of the second argument of issubdtype from `float` to `np.floating` is deprecated. In future, it will be treated as `np.float64 == np.dtype(float).type`.\n",
      "  from ._conv import register_converters as _register_converters\n",
      "Using TensorFlow backend.\n"
     ]
    },
    {
     "name": "stdout",
     "output_type": "stream",
     "text": [
      "255 0\n",
      "(60000, 28, 28) (60000,)\n"
     ]
    }
   ],
   "source": [
    "from keras.datasets import mnist\n",
    "\n",
    "(X_train, y_train), (X_test, y_test) = mnist.load_data()\n",
    "print(X_train.max(),X_train.min())\n",
    "\n",
    "X_train = X_train.astype('float32') / 255.0\n",
    "X_test = X_test.astype('float32') / 255.0\n",
    "\n",
    "print(X_train.shape, y_train.shape)"
   ]
  },
  {
   "cell_type": "code",
   "execution_count": 3,
   "metadata": {},
   "outputs": [
    {
     "data": {
      "text/plain": [
       "<matplotlib.image.AxesImage at 0x2c6e87342e8>"
      ]
     },
     "execution_count": 3,
     "metadata": {},
     "output_type": "execute_result"
    },
    {
     "data": {
      "image/png": "[encoded data removed]",
      "text/plain": [
       "<matplotlib.figure.Figure at 0x2c6e23d9cf8>"
      ]
     },
     "metadata": {},
     "output_type": "display_data"
    }
   ],
   "source": [
    "plt.imshow(X_train[0],cmap='Greys')"
   ]
  },
  {
   "cell_type": "markdown",
   "metadata": {
    "hideCode": false,
    "hidePrompt": false
   },
   "source": [
    "## Stacked autoencoder\n",
    "\n",
    "Following the book example, build a stacked autoencoder with 3 hidden layers and 1 output layer using Keras `Model` [functional API](https://keras.io/getting-started/functional-api-guide/).\n",
    "\n",
    "Use ELU activation (except for output layer - it uses sigmoid since outputs are between 0 and 1), He truncated normal initialization and $L_2$ regularization."
   ]
  },
  {
   "cell_type": "code",
   "execution_count": 4,
   "metadata": {
    "hideCode": false,
    "hidePrompt": false
   },
   "outputs": [],
   "source": [
    "from keras.layers import Dense, Input, Flatten, Reshape\n",
    "from keras.models import Model\n",
    "from keras.optimizers import Adam\n",
    "from keras import regularizers"
   ]
  },
  {
   "cell_type": "code",
   "execution_count": 5,
   "metadata": {},
   "outputs": [],
   "source": [
    "input_shape = X_train.shape[1:]\n",
    "n_hidden1 = 300\n",
    "n_hidden2 = 150  # codings\n",
    "n_hidden3 = n_hidden1\n",
    "learning_rate = 0.01\n",
    "l2_reg = 0.0001"
   ]
  },
  {
   "cell_type": "markdown",
   "metadata": {},
   "source": [
    "It is common to build autoencoders by blocks.\n",
    "\n",
    "### Tensors\n",
    "\n",
    "First, create tensors from which components of deep autoencoder will later be built.\n",
    "\n",
    "Encoder 1 will take an input (28,28), flatten it to vector of 784 units and condense it to 300 units.\n",
    "\n",
    "- Tensors for encoder 1:"
   ]
  },
  {
   "cell_type": "code",
   "execution_count": 6,
   "metadata": {},
   "outputs": [
    {
     "name": "stdout",
     "output_type": "stream",
     "text": [
      "input_tensor:  Tensor(\"input_1:0\", shape=(?, 28, 28), dtype=float32)\n",
      "flattened:  Tensor(\"flatten_1/Reshape:0\", shape=(?, ?), dtype=float32)\n",
      "hidden1:  Tensor(\"dense_1/Elu:0\", shape=(?, 300), dtype=float32)\n"
     ]
    }
   ],
   "source": [
    "# for encoder1\n",
    "input_tensor = Input(shape=input_shape)\n",
    "flattened = Flatten()(input_tensor)\n",
    "hidden1 = Dense(n_hidden1, activation='elu', kernel_initializer='he_normal', \n",
    "                kernel_regularizer=regularizers.l2(l2_reg))(flattened)\n",
    "print('input_tensor: ',input_tensor)\n",
    "print('flattened: ',flattened)\n",
    "print('hidden1: ',hidden1)"
   ]
  },
  {
   "cell_type": "markdown",
   "metadata": {},
   "source": [
    "Note that hidden layer includes `elu` activation, `he_normal` kernel initializer and `l2_reg` regularizator.\n",
    "\n",
    "Initializer `he_normal` draws random initial weights from truncated normal distribution with mean 0 and standard deviation $\\sqrt{\\frac{2}{n_{weights}}}$.\n",
    "\n",
    "Regularizator `l2` adds penalty to the loss function as\n",
    "$$L(w)+\\lambda \\sum_i w_i^2,$$\n",
    "where $\\lambda =$ `l2_reg`.\n",
    "\n",
    "Encoder 2 will create codings of 150 units from 300 units received from encoder 1.\n",
    "\n",
    "- Tensors for encoder 2:"
   ]
  },
  {
   "cell_type": "code",
   "execution_count": 7,
   "metadata": {},
   "outputs": [
    {
     "name": "stdout",
     "output_type": "stream",
     "text": [
      "input_enc2:  Tensor(\"input_2:0\", shape=(?, 300), dtype=float32)\n",
      "hidden2:  Tensor(\"dense_2/Elu:0\", shape=(?, 150), dtype=float32)\n"
     ]
    }
   ],
   "source": [
    "# for encoder2\n",
    "input_enc2 = Input(shape=(n_hidden1,))\n",
    "hidden2 = Dense(n_hidden2, activation='elu', kernel_initializer='he_normal', \n",
    "                kernel_regularizer=regularizers.l2(l2_reg))(input_enc2)\n",
    "print('input_enc2: ',input_enc2)\n",
    "print('hidden2: ',hidden2)"
   ]
  },
  {
   "cell_type": "markdown",
   "metadata": {},
   "source": [
    "Following encoder 2 is decoder 2: it takes codings from encoder 2 and decodes them to 300 units.\n",
    "\n",
    "- Tensors for decoder 2:"
   ]
  },
  {
   "cell_type": "code",
   "execution_count": 8,
   "metadata": {},
   "outputs": [
    {
     "name": "stdout",
     "output_type": "stream",
     "text": [
      "input_dec2:  Tensor(\"input_3:0\", shape=(?, 150), dtype=float32)\n",
      "hidden3:  Tensor(\"dense_3/Elu:0\", shape=(?, 300), dtype=float32)\n"
     ]
    }
   ],
   "source": [
    "# for decoder2\n",
    "input_dec2 = Input(shape=(n_hidden2,))\n",
    "hidden3 = Dense(n_hidden3, activation='elu', kernel_initializer='he_normal', \n",
    "                kernel_regularizer=regularizers.l2(l2_reg))(input_dec2)\n",
    "print('input_dec2: ',input_dec2)\n",
    "print('hidden3: ',hidden3)"
   ]
  },
  {
   "cell_type": "markdown",
   "metadata": {},
   "source": [
    "Final step of decoding - decoder 1 - takes input of 300 units from decoder 2, further decodes them to 784 units (flattened output) and reshapes flattened output into the original shape (28,28).\n",
    "\n",
    "- Tensors for decoder 1:"
   ]
  },
  {
   "cell_type": "code",
   "execution_count": 9,
   "metadata": {},
   "outputs": [
    {
     "name": "stdout",
     "output_type": "stream",
     "text": [
      "input_dec1:  Tensor(\"input_4:0\", shape=(?, 300), dtype=float32)\n",
      "flattened_outputs:  Tensor(\"dense_4/Sigmoid:0\", shape=(?, 784), dtype=float32)\n",
      "outputs:  Tensor(\"reshape_1/Reshape:0\", shape=(?, 28, 28), dtype=float32)\n"
     ]
    }
   ],
   "source": [
    "input_dec1 = Input(shape=(n_hidden1,))\n",
    "flattened_outputs = Dense(np.prod(input_shape), activation='sigmoid', kernel_initializer='he_normal', \n",
    "                          kernel_regularizer=regularizers.l2(l2_reg))(input_dec1)\n",
    "outputs = Reshape(input_shape)(flattened_outputs)\n",
    "print('input_dec1: ',input_dec1)\n",
    "print('flattened_outputs: ',flattened_outputs)\n",
    "print('outputs: ',outputs)"
   ]
  },
  {
   "cell_type": "markdown",
   "metadata": {},
   "source": [
    "### Models\n",
    "\n",
    "Using defined tensors construct models for separate components of autoencoder.\n",
    "\n",
    "- Encoder. Create models of encoder 1 and encoder 2 and combine them in a model of encoder:"
   ]
  },
  {
   "cell_type": "code",
   "execution_count": 10,
   "metadata": {},
   "outputs": [],
   "source": [
    "from keras.utils import plot_model"
   ]
  },
  {
   "cell_type": "code",
   "execution_count": 11,
   "metadata": {},
   "outputs": [],
   "source": [
    "# encoder\n",
    "encoder1 = Model(input_tensor, hidden1, name='encoder_1')\n",
    "encoder2 = Model(input_enc2, hidden2, name='encoder_2')\n",
    "encoder = Model(input_tensor, encoder2(encoder1(input_tensor)), name='encoder')\n",
    "plot_model(encoder1, to_file='encoder1.png',show_shapes=True,show_layer_names=True)\n",
    "plot_model(encoder2, to_file='encoder2.png',show_shapes=True,show_layer_names=True)\n",
    "plot_model(encoder, to_file='encoder.png',show_shapes=True,show_layer_names=True)"
   ]
  },
  {
   "cell_type": "markdown",
   "metadata": {},
   "source": [
    "Architecture of encoder 1:\n",
    "\n",
    "![Encoder1 plot](https://ilykei.com/api/fileProxy/documents%2FAdvanced%20Machine%20Learning%2FAnomalies%20Detection%2Fencoder1.png)\n",
    "\n",
    "Architecture of encoder 2:\n",
    "\n",
    "![Encoder2 plot](https://ilykei.com/api/fileProxy/documents%2FAdvanced%20Machine%20Learning%2FAnomalies%20Detection%2Fencoder2.png)\n",
    "\n",
    "Architecture of encoder:\n",
    "\n",
    "![Encoder plot](https://ilykei.com/api/fileProxy/documents%2FAdvanced%20Machine%20Learning%2FAnomalies%20Detection%2Fencoder.png)\n",
    "\n",
    "- Decoder: create models for decoder 2, decoder 1 and combine them in a model for decoder:"
   ]
  },
  {
   "cell_type": "code",
   "execution_count": 12,
   "metadata": {},
   "outputs": [],
   "source": [
    "# decoder\n",
    "decoder2 = Model(input_dec2, hidden3, name='decoder_2')\n",
    "decoder1 = Model(input_dec1, outputs, name='decoder_1')\n",
    "decoder = Model(input_dec2, decoder1(decoder2(input_dec2)), name='decoder')\n",
    "plot_model(decoder2, to_file='decoder2.png',show_shapes=True,show_layer_names=True)\n",
    "plot_model(decoder1, to_file='decoder1.png',show_shapes=True,show_layer_names=True)\n",
    "plot_model(decoder, to_file='decoder.png',show_shapes=True,show_layer_names=True)"
   ]
  },
  {
   "cell_type": "markdown",
   "metadata": {},
   "source": [
    "Architecture of decoder 2:\n",
    "\n",
    "![Decoder2 plot](https://ilykei.com/api/fileProxy/documents%2FAdvanced%20Machine%20Learning%2FAnomalies%20Detection%2Fdecoder2.png)\n",
    "\n",
    "Architecture of decoder 1:\n",
    "\n",
    "![Decoder1 plot](https://ilykei.com/api/fileProxy/documents%2FAdvanced%20Machine%20Learning%2FAnomalies%20Detection%2Fdecoder1.png)\n",
    "\n",
    "Architecture of decoder:\n",
    "\n",
    "![Decoder plot](https://ilykei.com/api/fileProxy/documents%2FAdvanced%20Machine%20Learning%2FAnomalies%20Detection%2Fdecoder.png)\n",
    "\n",
    "### Autoencoder assembled\n",
    "\n",
    "Finally, combine encoder and decoder in deep autoencoder."
   ]
  },
  {
   "cell_type": "code",
   "execution_count": 13,
   "metadata": {},
   "outputs": [],
   "source": [
    "# autoencoder\n",
    "autoencoder = Model(input_tensor, decoder(encoder(input_tensor)), name='autoencoder')\n",
    "plot_model(autoencoder, to_file='autoencoder.png',show_shapes=True,show_layer_names=True)"
   ]
  },
  {
   "cell_type": "markdown",
   "metadata": {},
   "source": [
    "Autoencoder architecture:\n",
    "\n",
    "![Autoencoder plot](https://ilykei.com/api/fileProxy/documents%2FAdvanced%20Machine%20Learning%2FAnomalies%20Detection%2Fautoencoder.png)\n",
    "\n",
    "Compile autoencoder, save initial weights and print summary."
   ]
  },
  {
   "cell_type": "code",
   "execution_count": 14,
   "metadata": {
    "hideCode": false,
    "hidePrompt": false,
    "scrolled": false
   },
   "outputs": [
    {
     "name": "stdout",
     "output_type": "stream",
     "text": [
      "_________________________________________________________________\n",
      "Layer (type)                 Output Shape              Param #   \n",
      "=================================================================\n",
      "input_1 (InputLayer)         (None, 28, 28)            0         \n",
      "_________________________________________________________________\n",
      "encoder (Model)              (None, 150)               280650    \n",
      "_________________________________________________________________\n",
      "decoder (Model)              (None, 28, 28)            281284    \n",
      "=================================================================\n",
      "Total params: 561,934\n",
      "Trainable params: 561,934\n",
      "Non-trainable params: 0\n",
      "_________________________________________________________________\n"
     ]
    }
   ],
   "source": [
    "autoencoder.compile(optimizer=Adam(learning_rate), loss='binary_crossentropy')\n",
    "autoencoder.save_weights('ae_initial_weights.h5') # save initial weights (to re-produce results in the next sections)\n",
    "autoencoder.summary()"
   ]
  },
  {
   "cell_type": "markdown",
   "metadata": {
    "hideCode": false,
    "hidePrompt": false
   },
   "source": [
    "Train autoencoder:"
   ]
  },
  {
   "cell_type": "code",
   "execution_count": 15,
   "metadata": {
    "hideCode": false,
    "hidePrompt": false
   },
   "outputs": [
    {
     "name": "stdout",
     "output_type": "stream",
     "text": [
      "Train on 60000 samples, validate on 10000 samples\n",
      "Epoch 1/4\n",
      "60000/60000 [==============================] - 17s 282us/step - loss: 0.2042 - val_loss: 0.1519\n",
      "Epoch 2/4\n",
      "60000/60000 [==============================] - 13s 218us/step - loss: 0.1519 - val_loss: 0.1493\n",
      "Epoch 3/4\n",
      "60000/60000 [==============================] - 14s 230us/step - loss: 0.1502 - val_loss: 0.1470\n",
      "Epoch 4/4\n",
      "60000/60000 [==============================] - 14s 228us/step - loss: 0.1490 - val_loss: 0.1464\n"
     ]
    },
    {
     "data": {
      "text/plain": [
       "<keras.callbacks.History at 0x2c6e8758710>"
      ]
     },
     "execution_count": 15,
     "metadata": {},
     "output_type": "execute_result"
    }
   ],
   "source": [
    "n_epochs = 4\n",
    "batch_size = 150\n",
    "\n",
    "autoencoder.fit(X_train, X_train,\n",
    "                epochs=n_epochs,\n",
    "                batch_size=batch_size,\n",
    "                validation_data=(X_test, X_test))"
   ]
  },
  {
   "cell_type": "markdown",
   "metadata": {},
   "source": [
    "Reconstruct some images from test set and plot original images along with reconstruction:"
   ]
  },
  {
   "cell_type": "code",
   "execution_count": 16,
   "metadata": {
    "scrolled": false
   },
   "outputs": [
    {
     "data": {
      "image/png": "[encoded data removed]",
      "text/plain": [
       "<matplotlib.figure.Figure at 0x2c6e8a1ec18>"
      ]
     },
     "metadata": {},
     "output_type": "display_data"
    }
   ],
   "source": [
    "n_test_digits = 3\n",
    "\n",
    "imgs = X_test[:n_test_digits]\n",
    "reconstructed_imgs = autoencoder.predict(imgs)\n",
    "\n",
    "\n",
    "def plot_imgs(*args, n_imgs=None):\n",
    "    n_cols = len(args)\n",
    "    if n_imgs is None:\n",
    "        n_imgs = args[0].shape[0]\n",
    "    fig = plt.figure(figsize=(3 * n_cols, 3 * n_imgs))\n",
    "    for row in range(n_imgs):\n",
    "        for col in range(n_cols):\n",
    "            plt.subplot(n_imgs, n_cols, row * n_cols + col + 1)\n",
    "            plt.imshow(args[col][row], cmap='Greys', interpolation='nearest')\n",
    "            plt.axis('off')\n",
    "\n",
    "\n",
    "plot_imgs(imgs, reconstructed_imgs)"
   ]
  },
  {
   "cell_type": "markdown",
   "metadata": {},
   "source": [
    "## Training one Autoencoder at a time\n",
    "\n",
    "Use the same network architecture, but train only one encoder/decoder at a time."
   ]
  },
  {
   "cell_type": "code",
   "execution_count": 17,
   "metadata": {},
   "outputs": [],
   "source": [
    "autoencoder.load_weights('ae_initial_weights.h5') # load initial weights"
   ]
  },
  {
   "cell_type": "markdown",
   "metadata": {},
   "source": [
    "Check that autoencoder predictions are non-sense after reloading initial weights:"
   ]
  },
  {
   "cell_type": "code",
   "execution_count": 18,
   "metadata": {},
   "outputs": [
    {
     "data": {
      "image/png": "[encoded data removed]",
      "text/plain": [
       "<matplotlib.figure.Figure at 0x2c6e23d9d68>"
      ]
     },
     "metadata": {},
     "output_type": "display_data"
    }
   ],
   "source": [
    "n_test_digits = 3\n",
    "imgs = X_test[:n_test_digits]\n",
    "reconstructed_imgs = autoencoder.predict(imgs)\n",
    "plot_imgs(imgs, reconstructed_imgs)"
   ]
  },
  {
   "cell_type": "markdown",
   "metadata": {},
   "source": [
    "Define and compile first autoencoder using previously defined tensors:"
   ]
  },
  {
   "cell_type": "code",
   "execution_count": 19,
   "metadata": {},
   "outputs": [],
   "source": [
    "autoencoder1 = Model(input_tensor, decoder1(encoder1(input_tensor)), name='autoencoder_1')\n",
    "autoencoder1.compile(optimizer=Adam(learning_rate), loss='binary_crossentropy')\n",
    "plot_model(autoencoder1, to_file='autoencoder1.png',show_shapes=True,show_layer_names=True)"
   ]
  },
  {
   "cell_type": "markdown",
   "metadata": {},
   "source": [
    "Autoencoder 1 architecture:\n",
    "\n",
    "![Autoencoder1 plot](https://ilykei.com/api/fileProxy/documents%2FAdvanced%20Machine%20Learning%2FAnomalies%20Detection%2Fautoencoder1.png)\n",
    "\n",
    "Train `autoencoder1`:"
   ]
  },
  {
   "cell_type": "code",
   "execution_count": 20,
   "metadata": {},
   "outputs": [
    {
     "name": "stdout",
     "output_type": "stream",
     "text": [
      "Train on 60000 samples, validate on 10000 samples\n",
      "Epoch 1/4\n",
      "60000/60000 [==============================] - 14s 227us/step - loss: 0.1824 - val_loss: 0.1577\n",
      "Epoch 2/4\n",
      "60000/60000 [==============================] - 13s 214us/step - loss: 0.1568 - val_loss: 0.1534\n",
      "Epoch 3/4\n",
      "60000/60000 [==============================] - 13s 217us/step - loss: 0.1549 - val_loss: 0.1529\n",
      "Epoch 4/4\n",
      "60000/60000 [==============================] - 13s 218us/step - loss: 0.1542 - val_loss: 0.1526\n"
     ]
    },
    {
     "data": {
      "text/plain": [
       "<keras.callbacks.History at 0x2c6eb5535f8>"
      ]
     },
     "execution_count": 20,
     "metadata": {},
     "output_type": "execute_result"
    }
   ],
   "source": [
    "n_epochs = 4\n",
    "batch_size = 150\n",
    "\n",
    "autoencoder1.fit(X_train, X_train,\n",
    "                 epochs=n_epochs,\n",
    "                 batch_size=batch_size,\n",
    "                 validation_data=(X_test, X_test))"
   ]
  },
  {
   "cell_type": "markdown",
   "metadata": {},
   "source": [
    "Autoencoder 1 by itself may not be needed. But we need to copy the first hidden layer (model `encoder_1`) weights to the final autoencoder and we need outputs of that layer to train encoder 2:\n",
    "\n",
    "![Stacked Autoencoder1 plot](https://ilykei.com/api/fileProxy/documents%2FAdvanced%20Machine%20Learning%2FAnomalies%20Detection%2FStackedAESequential.jpg)\n",
    "\n",
    "Recall definition of the network that was just trained: `decoder1(encoder1(input_tensor))`. This means that `encoder1` and `decoder1` were just trained as models too.\n",
    "\n",
    "Using them compute intermediate codes (i.e. inputs for `encoder2` and outputs of `decoder2`) for both train and test sets:"
   ]
  },
  {
   "cell_type": "code",
   "execution_count": 21,
   "metadata": {},
   "outputs": [
    {
     "data": {
      "text/plain": [
       "((60000, 300), (10000, 300))"
      ]
     },
     "execution_count": 21,
     "metadata": {},
     "output_type": "execute_result"
    }
   ],
   "source": [
    "X_train_intermediate = encoder1.predict(X_train)\n",
    "X_test_intermediate = encoder1.predict(X_test)\n",
    "X_train_intermediate.shape,X_test_intermediate.shape"
   ]
  },
  {
   "cell_type": "markdown",
   "metadata": {},
   "source": [
    "Define and compile second autoencoder using previously defined tensors. Use mean-squared error loss since intermediate codes are unbounded."
   ]
  },
  {
   "cell_type": "code",
   "execution_count": 22,
   "metadata": {},
   "outputs": [],
   "source": [
    "autoencoder2 = Model(input_enc2, decoder2(encoder2(input_enc2)), name='autoencoder_2')\n",
    "autoencoder2.compile(optimizer=Adam(learning_rate), loss='mse')\n",
    "plot_model(autoencoder2, to_file='autoencoder2.png',show_shapes=True,show_layer_names=True)"
   ]
  },
  {
   "cell_type": "markdown",
   "metadata": {},
   "source": [
    "Architecture of autoencoder 2:\n",
    "\n",
    "![Autoencoder2 plot](https://ilykei.com/api/fileProxy/documents%2FAdvanced%20Machine%20Learning%2FAnomalies%20Detection%2Fautoencoder2.png)\n",
    "\n",
    "Train `autoencoder2` just like `autoencoder1` but using intermediate codings stored in `X_train_intermediate`:"
   ]
  },
  {
   "cell_type": "code",
   "execution_count": 23,
   "metadata": {},
   "outputs": [
    {
     "name": "stdout",
     "output_type": "stream",
     "text": [
      "Train on 60000 samples, validate on 10000 samples\n",
      "Epoch 1/4\n",
      "60000/60000 [==============================] - 3s 57us/step - loss: 0.1475 - val_loss: 0.0310\n",
      "Epoch 2/4\n",
      "60000/60000 [==============================] - 3s 47us/step - loss: 0.0267 - val_loss: 0.0255\n",
      "Epoch 3/4\n",
      "60000/60000 [==============================] - 3s 47us/step - loss: 0.0232 - val_loss: 0.0146\n",
      "Epoch 4/4\n",
      "60000/60000 [==============================] - 3s 47us/step - loss: 0.0150 - val_loss: 0.0146\n"
     ]
    },
    {
     "data": {
      "text/plain": [
       "<keras.callbacks.History at 0x2c6e9080278>"
      ]
     },
     "execution_count": 23,
     "metadata": {},
     "output_type": "execute_result"
    }
   ],
   "source": [
    "n_epochs = 4\n",
    "batch_size = 150\n",
    "\n",
    "autoencoder2.fit(X_train_intermediate, X_train_intermediate,\n",
    "                 epochs=n_epochs,\n",
    "                 batch_size=batch_size,\n",
    "                 validation_data=(X_test_intermediate, X_test_intermediate))"
   ]
  },
  {
   "cell_type": "markdown",
   "metadata": {},
   "source": [
    "Visualize some reconstructions."
   ]
  },
  {
   "cell_type": "code",
   "execution_count": 24,
   "metadata": {},
   "outputs": [
    {
     "data": {
      "image/png": "[encoded data removed]",
      "text/plain": [
       "<matplotlib.figure.Figure at 0x2c6e90823c8>"
      ]
     },
     "metadata": {},
     "output_type": "display_data"
    }
   ],
   "source": [
    "n_test_digits = 3\n",
    "\n",
    "imgs = X_test[:n_test_digits]\n",
    "reconstructed_imgs = autoencoder.predict(imgs)\n",
    "\n",
    "plot_imgs(imgs, reconstructed_imgs)"
   ]
  },
  {
   "cell_type": "markdown",
   "metadata": {},
   "source": [
    "Visualize some extracted features by plotting reshaped (28x28) weights from first encoding layer."
   ]
  },
  {
   "cell_type": "code",
   "execution_count": 25,
   "metadata": {},
   "outputs": [
    {
     "data": {
      "text/plain": [
       "(784, 300)"
      ]
     },
     "execution_count": 25,
     "metadata": {},
     "output_type": "execute_result"
    }
   ],
   "source": [
    "w = encoder1.get_weights()[0]\n",
    "w.shape"
   ]
  },
  {
   "cell_type": "code",
   "execution_count": 26,
   "metadata": {},
   "outputs": [
    {
     "data": {
      "image/png": "[encoded data removed]",
      "text/plain": [
       "<matplotlib.figure.Figure at 0x2c6e8adae10>"
      ]
     },
     "metadata": {},
     "output_type": "display_data"
    }
   ],
   "source": [
    "R, C = 5, 5  # rows, columns\n",
    "plt.figure(figsize=(R, C))\n",
    "for i in range(R*C):\n",
    "    plt.subplot(R, C, i + 1)\n",
    "    plt.imshow(w[:,i].reshape((28, 28)), cmap='Greys', interpolation='nearest')\n",
    "    plt.axis('off')"
   ]
  },
  {
   "cell_type": "markdown",
   "metadata": {},
   "source": [
    "**Is it possible to interpret these images?**"
   ]
  },
  {
   "cell_type": "markdown",
   "metadata": {},
   "source": [
    "## Unsupervised pretraining for supervised problem\n",
    "\n",
    "Now use pre-trained autoencoder to classify MNIST pictures. Consider 150-dimensional codings generated by encoder as inputs instead of 28x28-images."
   ]
  },
  {
   "cell_type": "code",
   "execution_count": 27,
   "metadata": {},
   "outputs": [
    {
     "name": "stdout",
     "output_type": "stream",
     "text": [
      "(60000, 150) (10000, 150)\n"
     ]
    }
   ],
   "source": [
    "X_train_codings = encoder.predict(X_train)\n",
    "X_test_codings = encoder.predict(X_test)\n",
    "print(X_train_codings.shape, X_test_codings.shape)"
   ]
  },
  {
   "cell_type": "markdown",
   "metadata": {},
   "source": [
    "Build simple 1-layer softmax classifier with $L_2$-regularization with codings as inputs."
   ]
  },
  {
   "cell_type": "code",
   "execution_count": 28,
   "metadata": {},
   "outputs": [
    {
     "name": "stdout",
     "output_type": "stream",
     "text": [
      "_________________________________________________________________\n",
      "Layer (type)                 Output Shape              Param #   \n",
      "=================================================================\n",
      "input_5 (InputLayer)         (None, 150)               0         \n",
      "_________________________________________________________________\n",
      "dense_5 (Dense)              (None, 10)                1510      \n",
      "=================================================================\n",
      "Total params: 1,510\n",
      "Trainable params: 1,510\n",
      "Non-trainable params: 0\n",
      "_________________________________________________________________\n"
     ]
    }
   ],
   "source": [
    "input_classifier = Input(shape=(n_hidden2,))\n",
    "softmax_predictions = Dense(10, activation='softmax', kernel_initializer='he_normal',\n",
    "                            kernel_regularizer=regularizers.l2(l2_reg))(input_classifier)\n",
    "\n",
    "classifier = Model(inputs=input_classifier, outputs=softmax_predictions, name='classifier')\n",
    "\n",
    "classifier.compile(optimizer=Adam(learning_rate), loss='sparse_categorical_crossentropy', metrics=['accuracy'])\n",
    "classifier.summary()"
   ]
  },
  {
   "cell_type": "code",
   "execution_count": 29,
   "metadata": {},
   "outputs": [],
   "source": [
    "plot_model(classifier, to_file='classifier.png',show_shapes=True,show_layer_names=True)"
   ]
  },
  {
   "cell_type": "markdown",
   "metadata": {},
   "source": [
    "Architecture of classifier:\n",
    "\n",
    "![Classifier](https://ilykei.com/api/fileProxy/documents%2FAdvanced%20Machine%20Learning%2FAnomalies%20Detection%2Fclassifier.png)\n",
    "\n",
    "Finally, train classifier network."
   ]
  },
  {
   "cell_type": "code",
   "execution_count": 30,
   "metadata": {},
   "outputs": [
    {
     "name": "stdout",
     "output_type": "stream",
     "text": [
      "Train on 60000 samples, validate on 60000 samples\n",
      "Epoch 1/4\n",
      "60000/60000 [==============================] - 2s 28us/step - loss: 0.4727 - acc: 0.8603 - val_loss: 0.3534 - val_acc: 0.8982\n",
      "Epoch 2/4\n",
      "60000/60000 [==============================] - 1s 22us/step - loss: 0.3456 - acc: 0.9001 - val_loss: 0.3392 - val_acc: 0.9008\n",
      "Epoch 3/4\n",
      "60000/60000 [==============================] - 1s 19us/step - loss: 0.3309 - acc: 0.9059 - val_loss: 0.3140 - val_acc: 0.9106\n",
      "Epoch 4/4\n",
      "60000/60000 [==============================] - 1s 19us/step - loss: 0.3270 - acc: 0.9061 - val_loss: 0.3158 - val_acc: 0.9100\n"
     ]
    },
    {
     "data": {
      "text/plain": [
       "<keras.callbacks.History at 0x2c6f75f9a20>"
      ]
     },
     "execution_count": 30,
     "metadata": {},
     "output_type": "execute_result"
    }
   ],
   "source": [
    "n_epochs = 4\n",
    "batch_size = 150\n",
    "\n",
    "classifier.fit(X_train_codings, y_train,\n",
    "               epochs=n_epochs,\n",
    "               batch_size=batch_size,\n",
    "               validation_data=(X_train_codings, y_train))"
   ]
  },
  {
   "cell_type": "markdown",
   "metadata": {},
   "source": [
    "Unsupervised pretraining approach is especially useful when labeled train set is small, while test set is large (as usually happens in real life since collecting data is much simpler and/or cheaper than labeling it). \n",
    "\n",
    "Just train autoencoder on the concatenation of `X_train` and `X_test` and train classifier using `X_train_codings` and predict `y_test` using `X_test_codings`.\n",
    "\n",
    "Check predictions by the classifier:"
   ]
  },
  {
   "cell_type": "code",
   "execution_count": 31,
   "metadata": {},
   "outputs": [
    {
     "name": "stdout",
     "output_type": "stream",
     "text": [
      "Class probabilities: \n",
      "      0     1     2     3    4    5     6     7    8     9\n",
      "0  0.0  0.00  0.00  0.00  0.0  0.0  0.00  1.00  0.0  0.00\n",
      "1  0.0  0.00  0.95  0.01  0.0  0.0  0.03  0.00  0.0  0.00\n",
      "2  0.0  0.99  0.00  0.00  0.0  0.0  0.00  0.00  0.0  0.00\n",
      "3  1.0  0.00  0.00  0.00  0.0  0.0  0.00  0.00  0.0  0.00\n",
      "4  0.0  0.00  0.00  0.00  0.9  0.0  0.00  0.01  0.0  0.09\n",
      "Actual:  [7 2 1 0 4]\n"
     ]
    }
   ],
   "source": [
    "import pandas as pd\n",
    "y_test_predictions = classifier.predict(X_test_codings)\n",
    "print('Class probabilities: \\n',pd.DataFrame(y_test_predictions[:5]).round(2))\n",
    "print('Actual: ',y_test[:5])"
   ]
  },
  {
   "cell_type": "markdown",
   "metadata": {},
   "source": [
    "## Stacked Denoising Autoencoder\n",
    "\n",
    "Autoencoders also can be a useful method for cleaning noisy data.\n",
    "\n",
    "### Gaussian noise\n",
    "\n",
    "Add some gaussian noise to inputs and compile denoiser:"
   ]
  },
  {
   "cell_type": "code",
   "execution_count": 32,
   "metadata": {},
   "outputs": [],
   "source": [
    "autoencoder.load_weights('ae_initial_weights.h5')  # load initial weights\n",
    "\n",
    "import keras.backend as K\n",
    "from keras.layers import Lambda\n",
    "\n",
    "\n",
    "def add_noise(x, noise_level = 0.5):\n",
    "    x = x + K.random_normal(shape=K.shape(x), stddev=noise_level)\n",
    "    x = K.clip(x, 0., 1.)  # assure 0 <= x <= 1\n",
    "    return x\n",
    "\n",
    "\n",
    "noised_img = Lambda(add_noise)(input_tensor)\n",
    "noiser = Model(input_tensor, noised_img, name='noiser')\n",
    "denoiser = Model(input_tensor, autoencoder(noiser(input_tensor)), name='denoiser')\n",
    "\n",
    "denoiser.compile(optimizer=Adam(learning_rate), loss='binary_crossentropy')"
   ]
  },
  {
   "cell_type": "markdown",
   "metadata": {},
   "source": [
    "Train denoising autoencoder:"
   ]
  },
  {
   "cell_type": "code",
   "execution_count": 33,
   "metadata": {},
   "outputs": [
    {
     "name": "stdout",
     "output_type": "stream",
     "text": [
      "Train on 60000 samples, validate on 10000 samples\n",
      "Epoch 1/4\n",
      "60000/60000 [==============================] - 15s 250us/step - loss: 0.2586 - val_loss: 0.1906\n",
      "Epoch 2/4\n",
      "60000/60000 [==============================] - 14s 236us/step - loss: 0.1848 - val_loss: 0.1798\n",
      "Epoch 3/4\n",
      "60000/60000 [==============================] - 15s 252us/step - loss: 0.1824 - val_loss: 0.1799\n",
      "Epoch 4/4\n",
      "60000/60000 [==============================] - 14s 240us/step - loss: 0.1809 - val_loss: 0.1796\n"
     ]
    },
    {
     "data": {
      "text/plain": [
       "<keras.callbacks.History at 0x2c6f75cbbe0>"
      ]
     },
     "execution_count": 33,
     "metadata": {},
     "output_type": "execute_result"
    }
   ],
   "source": [
    "n_epochs = 4\n",
    "batch_size = 150\n",
    "\n",
    "denoiser.fit(X_train, X_train,\n",
    "             epochs=n_epochs, batch_size=batch_size,\n",
    "             validation_data=(X_test, X_test))"
   ]
  },
  {
   "cell_type": "markdown",
   "metadata": {},
   "source": [
    "Check results. Original images are on the left, noised are in cener, denoised are on the right."
   ]
  },
  {
   "cell_type": "code",
   "execution_count": 34,
   "metadata": {},
   "outputs": [
    {
     "data": {
      "image/png": "[encoded data removed]",
      "text/plain": [
       "<matplotlib.figure.Figure at 0x2c6eb3d4a90>"
      ]
     },
     "metadata": {},
     "output_type": "display_data"
    }
   ],
   "source": [
    "n = 3\n",
    "\n",
    "imgs = X_test[:n]\n",
    "noised_imgs = noiser.predict(imgs)\n",
    "denoised_imgs = autoencoder.predict(noised_imgs)\n",
    "\n",
    "plot_imgs(imgs, noised_imgs, denoised_imgs)"
   ]
  },
  {
   "cell_type": "markdown",
   "metadata": {},
   "source": [
    "### Dropout noise\n",
    "Instead of white noise one might want to use dropout layer on input image. "
   ]
  },
  {
   "cell_type": "code",
   "execution_count": 35,
   "metadata": {},
   "outputs": [],
   "source": [
    "autoencoder.load_weights('ae_initial_weights.h5')  # reload initial weights\n",
    "\n",
    "from keras.layers import Dropout\n",
    "\n",
    "dropout_rate = 0.8  # drop ~80% (!!!) of pixels\n",
    "dropout_img = Dropout(rate=dropout_rate)(input_tensor, training=True)  # training=True activates dropout during prediction\n",
    "\n",
    "noiser_dropout = Model(input_tensor, dropout_img, name='noiser_dropuot')\n",
    "denoiser_dropout = Model(input_tensor, autoencoder(noiser_dropout(input_tensor)), name='denoiser_dropout')    \n",
    "\n",
    "denoiser_dropout.compile(optimizer=Adam(learning_rate), loss='binary_crossentropy')"
   ]
  },
  {
   "cell_type": "markdown",
   "metadata": {},
   "source": [
    "Train dropout denoiser:"
   ]
  },
  {
   "cell_type": "code",
   "execution_count": 36,
   "metadata": {},
   "outputs": [
    {
     "name": "stdout",
     "output_type": "stream",
     "text": [
      "Train on 60000 samples, validate on 10000 samples\n",
      "Epoch 1/4\n",
      "60000/60000 [==============================] - 16s 267us/step - loss: 0.2422 - val_loss: 0.2034\n",
      "Epoch 2/4\n",
      "60000/60000 [==============================] - 16s 259us/step - loss: 0.2031 - val_loss: 0.1991\n",
      "Epoch 3/4\n",
      "60000/60000 [==============================] - 15s 256us/step - loss: 0.2005 - val_loss: 0.2000\n",
      "Epoch 4/4\n",
      "60000/60000 [==============================] - 15s 256us/step - loss: 0.1995 - val_loss: 0.1982\n"
     ]
    },
    {
     "data": {
      "text/plain": [
       "<keras.callbacks.History at 0x2c6eb0a87f0>"
      ]
     },
     "execution_count": 36,
     "metadata": {},
     "output_type": "execute_result"
    }
   ],
   "source": [
    "n_epochs = 4\n",
    "batch_size = 150\n",
    "\n",
    "denoiser_dropout.fit(X_train, X_train,\n",
    "                     epochs=n_epochs, batch_size=batch_size,\n",
    "                     validation_data=(X_test, X_test))"
   ]
  },
  {
   "cell_type": "markdown",
   "metadata": {},
   "source": [
    "And check results:"
   ]
  },
  {
   "cell_type": "code",
   "execution_count": 37,
   "metadata": {},
   "outputs": [
    {
     "data": {
      "image/png": "[encoded data removed]",
      "text/plain": [
       "<matplotlib.figure.Figure at 0x2c6e1c963c8>"
      ]
     },
     "metadata": {},
     "output_type": "display_data"
    }
   ],
   "source": [
    "n = 3\n",
    "\n",
    "imgs = X_test[:n]\n",
    "noised_imgs = noiser_dropout.predict(imgs)\n",
    "denoised_imgs = autoencoder.predict(noised_imgs)\n",
    "\n",
    "plot_imgs(imgs, noised_imgs, denoised_imgs)"
   ]
  },
  {
   "cell_type": "markdown",
   "metadata": {},
   "source": [
    "## Sparse Autoencoder\n",
    "\n",
    "Instead of penalizing autoencoder *weights* one may decide to penalize *codes*, so fewer units would \"fire\" at a given time. In Keras, this can be done by adding an `activity_regularizer` to the last encoder layer.\n",
    "\n",
    "Define two 1-hidden-layer autoencoders. First one is vanilla autoencoder, while the second is sparse with $L_1$-regularizer for codes."
   ]
  },
  {
   "cell_type": "code",
   "execution_count": 38,
   "metadata": {},
   "outputs": [],
   "source": [
    "def create_autoencoder(input_shape, n_hidden1, sparse=True, sparsity_weight=1e-5):\n",
    "    # tensors:\n",
    "    input_tensor = Input(shape=input_shape)\n",
    "    flattened = Flatten()(input_tensor)\n",
    "    regularizer = regularizers.l1(sparsity_weight) if sparse else None\n",
    "    hidden1 = Dense(n_hidden1, activation='relu', kernel_initializer='he_normal', \n",
    "                    activity_regularizer=regularizer)(flattened)\n",
    "    input_decoder = Input(shape=(n_hidden1,))\n",
    "    flattened_outputs = Dense(np.prod(input_shape), activation='sigmoid', \n",
    "                              kernel_initializer='he_normal')(input_decoder)\n",
    "    outputs = Reshape(input_shape)(flattened_outputs)\n",
    "    # models:\n",
    "    encoder = Model(input_tensor, hidden1, name='encoder')\n",
    "    decoder = Model(input_decoder, outputs, name='decoder')\n",
    "    autoencoder = Model(input_tensor, decoder(encoder(input_tensor)), name='autoencoder')\n",
    "    return encoder, decoder, autoencoder\n",
    "\n",
    "\n",
    "input_shape = X_train.shape[1:]\n",
    "n_hidden1 = 300\n",
    "sparsity_weight = 1e-5\n",
    "encoder, decoder, autoencoder = create_autoencoder(input_shape, n_hidden1, sparse=False)\n",
    "s_encoder, s_decoder, s_autoencoder = create_autoencoder(input_shape, n_hidden1, \n",
    "                                                         sparse=True, sparsity_weight=sparsity_weight)"
   ]
  },
  {
   "cell_type": "markdown",
   "metadata": {},
   "source": [
    "Compile both autoencoders:"
   ]
  },
  {
   "cell_type": "code",
   "execution_count": 39,
   "metadata": {},
   "outputs": [
    {
     "name": "stdout",
     "output_type": "stream",
     "text": [
      "_________________________________________________________________\n",
      "Layer (type)                 Output Shape              Param #   \n",
      "=================================================================\n",
      "input_8 (InputLayer)         (None, 28, 28)            0         \n",
      "_________________________________________________________________\n",
      "encoder (Model)              (None, 300)               235500    \n",
      "_________________________________________________________________\n",
      "decoder (Model)              (None, 28, 28)            235984    \n",
      "=================================================================\n",
      "Total params: 471,484\n",
      "Trainable params: 471,484\n",
      "Non-trainable params: 0\n",
      "_________________________________________________________________\n"
     ]
    }
   ],
   "source": [
    "learning_rate = 0.01\n",
    "autoencoder.compile(optimizer=Adam(learning_rate), loss='binary_crossentropy')\n",
    "s_autoencoder.compile(optimizer=Adam(learning_rate), loss='binary_crossentropy')\n",
    "s_autoencoder.summary()"
   ]
  },
  {
   "cell_type": "markdown",
   "metadata": {},
   "source": [
    "Train both autoencoders:"
   ]
  },
  {
   "cell_type": "code",
   "execution_count": 40,
   "metadata": {
    "scrolled": true
   },
   "outputs": [
    {
     "name": "stdout",
     "output_type": "stream",
     "text": [
      "Train on 60000 samples, validate on 10000 samples\n",
      "Epoch 1/2\n",
      "60000/60000 [==============================] - 14s 226us/step - loss: 0.0985 - val_loss: 0.0717\n",
      "Epoch 2/2\n",
      "60000/60000 [==============================] - 13s 212us/step - loss: 0.0704 - val_loss: 0.0683\n",
      "Train on 60000 samples, validate on 10000 samples\n",
      "Epoch 1/2\n",
      "60000/60000 [==============================] - 12s 208us/step - loss: 0.2029 - val_loss: 0.1654\n",
      "Epoch 2/2\n",
      "60000/60000 [==============================] - 12s 201us/step - loss: 0.1610 - val_loss: 0.1553\n"
     ]
    },
    {
     "data": {
      "text/plain": [
       "<keras.callbacks.History at 0x2c6eb04e6d8>"
      ]
     },
     "execution_count": 40,
     "metadata": {},
     "output_type": "execute_result"
    }
   ],
   "source": [
    "n_epochs = 2\n",
    "batch_size = 150\n",
    "\n",
    "autoencoder.fit(X_train, X_train,\n",
    "                epochs=n_epochs,\n",
    "                batch_size=batch_size,\n",
    "                validation_data=(X_test, X_test))\n",
    "\n",
    "s_autoencoder.fit(X_train, X_train,\n",
    "                  epochs=n_epochs,\n",
    "                  batch_size=batch_size,\n",
    "                  validation_data=(X_test, X_test))"
   ]
  },
  {
   "cell_type": "markdown",
   "metadata": {},
   "source": [
    "Check results:"
   ]
  },
  {
   "cell_type": "code",
   "execution_count": 41,
   "metadata": {},
   "outputs": [
    {
     "data": {
      "image/png": "[encoded data removed]",
      "text/plain": [
       "<matplotlib.figure.Figure at 0x2c6fc668e80>"
      ]
     },
     "metadata": {},
     "output_type": "display_data"
    }
   ],
   "source": [
    "n_test_digits = 3\n",
    "\n",
    "imgs = X_test\n",
    "codings = encoder.predict(imgs)\n",
    "reconstructed_imgs = decoder.predict(codings)\n",
    "sparse_codings = s_encoder.predict(imgs)\n",
    "s_reconstructed_imgs = s_decoder.predict(sparse_codings)\n",
    "\n",
    "plot_imgs(imgs, reconstructed_imgs, s_reconstructed_imgs, n_imgs=n_test_digits)"
   ]
  },
  {
   "cell_type": "markdown",
   "metadata": {},
   "source": [
    "Calculate mean absolute value of codings:"
   ]
  },
  {
   "cell_type": "code",
   "execution_count": 42,
   "metadata": {},
   "outputs": [
    {
     "name": "stdout",
     "output_type": "stream",
     "text": [
      "Vanilla autoencoder mean-absolute-codings:  1.1070698\n",
      "Sparse  autoencoder mean-absolute-codings:  0.045040593\n"
     ]
    }
   ],
   "source": [
    "print('Vanilla autoencoder mean-absolute-codings: ', np.mean(np.abs(codings)))\n",
    "print('Sparse  autoencoder mean-absolute-codings: ', np.mean(np.abs(sparse_codings)))"
   ]
  },
  {
   "cell_type": "markdown",
   "metadata": {},
   "source": [
    "New model yields encoded representations that are much sparser."
   ]
  },
  {
   "cell_type": "code",
   "execution_count": 43,
   "metadata": {},
   "outputs": [
    {
     "name": "stdout",
     "output_type": "stream",
     "text": [
      "Vanilla autoencoder zero fraction:  0.5426496666666667\n",
      "Sparse  autoencoder zero fraction:  0.9559423333333333\n"
     ]
    }
   ],
   "source": [
    "print('Vanilla autoencoder zero fraction: ', np.mean(codings == 0))\n",
    "print('Sparse  autoencoder zero fraction: ', np.mean(sparse_codings == 0))"
   ]
  }
 ],
 "metadata": {
  "hide_code_all_hidden": false,
  "kernelspec": {
   "display_name": "Python 3",
   "language": "python",
   "name": "python3"
  },
  "language_info": {
   "codemirror_mode": {
    "name": "ipython",
    "version": 3
   },
   "file_extension": ".py",
   "mimetype": "text/x-python",
   "name": "python",
   "nbconvert_exporter": "python",
   "pygments_lexer": "ipython3",
   "version": "3.6.4"
  }
 },
 "nbformat": 4,
 "nbformat_minor": 2
}
